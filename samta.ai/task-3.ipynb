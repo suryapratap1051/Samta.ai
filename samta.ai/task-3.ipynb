{
 "cells": [
  {
   "cell_type": "code",
   "execution_count": 3,
   "id": "31720355",
   "metadata": {},
   "outputs": [],
   "source": [
    "import mysql.connector\n",
    "\n",
    "# Connect to your MySQL server\n",
    "mydb = mysql.connector.connect(\n",
    "    host=\"localhost\",\n",
    "    user=\"root\",\n",
    "    password=\"abes1234\",\n",
    "    database=\"surya\"\n",
    ")\n",
    "\n",
    "# Create a cursor object to interact with the database\n",
    "cursor = mydb.cursor()\n",
    "\n",
    "# Create the \"students\" table if it doesn't exist\n",
    "cursor.execute(\"CREATE TABLE IF NOT EXISTS students (student_id INT AUTO_INCREMENT PRIMARY KEY, first_name VARCHAR(255), last_name VARCHAR(255), age INT, grade FLOAT)\")\n",
    "\n",
    "# Insert a new student record\n",
    "insert_query = \"INSERT INTO students (first_name, last_name, age, grade) VALUES (%s, %s, %s, %s)\"\n",
    "student_data = (\"Alice\", \"Smith\", 18, 95.5)\n",
    "cursor.execute(insert_query, student_data)\n",
    "mydb.commit()\n",
    "\n",
    "# Update the grade of the student with first name \"Alice\"\n",
    "update_query = \"UPDATE students SET grade = %s WHERE first_name = %s\"\n",
    "update_data = (97.0, \"Alice\")\n",
    "cursor.execute(update_query, update_data)\n",
    "mydb.commit()\n",
    "\n",
    "# Delete the student with last name \"Smith\"\n",
    "delete_query = \"DELETE FROM students WHERE last_name = %s\"\n",
    "delete_data = (\"Smith\",)\n",
    "cursor.execute(delete_query, delete_data)\n",
    "mydb.commit()\n",
    "\n",
    "# Fetch and display all student records from the \"students\" table\n",
    "cursor.execute(\"SELECT * FROM students\")\n",
    "students = cursor.fetchall()\n",
    "for student in students:\n",
    "    print(student)\n",
    "\n",
    "# Close the cursor and database connection\n",
    "cursor.close()\n",
    "mydb.close()\n"
   ]
  },
  {
   "cell_type": "code",
   "execution_count": 2,
   "id": "c6dd6d0d",
   "metadata": {},
   "outputs": [
    {
     "name": "stdout",
     "output_type": "stream",
     "text": [
      "Collecting mysql-connector-python\n",
      "  Downloading mysql_connector_python-8.2.0-cp310-cp310-win_amd64.whl (14.2 MB)\n",
      "     ---------------------------------------- 14.2/14.2 MB 2.3 MB/s eta 0:00:00\n",
      "Collecting protobuf<=4.21.12,>=4.21.1\n",
      "  Downloading protobuf-4.21.12-cp310-abi3-win_amd64.whl (527 kB)\n",
      "     -------------------------------------- 527.0/527.0 kB 1.6 MB/s eta 0:00:00\n",
      "Installing collected packages: protobuf, mysql-connector-python\n",
      "  Attempting uninstall: protobuf\n",
      "    Found existing installation: protobuf 4.23.3\n",
      "    Uninstalling protobuf-4.23.3:\n",
      "      Successfully uninstalled protobuf-4.23.3\n",
      "Successfully installed mysql-connector-python-8.2.0 protobuf-4.21.12\n",
      "Note: you may need to restart the kernel to use updated packages.\n"
     ]
    }
   ],
   "source": [
    "pip install mysql-connector-python\n"
   ]
  },
  {
   "cell_type": "code",
   "execution_count": null,
   "id": "4ccafacc",
   "metadata": {},
   "outputs": [],
   "source": []
  }
 ],
 "metadata": {
  "kernelspec": {
   "display_name": "Python 3 (ipykernel)",
   "language": "python",
   "name": "python3"
  },
  "language_info": {
   "codemirror_mode": {
    "name": "ipython",
    "version": 3
   },
   "file_extension": ".py",
   "mimetype": "text/x-python",
   "name": "python",
   "nbconvert_exporter": "python",
   "pygments_lexer": "ipython3",
   "version": "3.10.9"
  }
 },
 "nbformat": 4,
 "nbformat_minor": 5
}
