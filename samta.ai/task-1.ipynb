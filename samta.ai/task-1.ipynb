{
 "cells": [
  {
   "cell_type": "code",
   "execution_count": null,
   "id": "6fc54296",
   "metadata": {},
   "outputs": [],
   "source": [
    "def calculate_area(length, width):\n",
    "    if length == width:\n",
    "        return \"This is a square!\"\n",
    "    else:\n",
    "        area = length * width\n",
    "        return area\n",
    "\n",
    "def main():\n",
    "    # Input values for length and width from the user\n",
    "    length = float(input(\"Enter the length: \"))\n",
    "    width = float(input(\"Enter the width: \"))\n",
    "\n",
    "    # Call the calculate_area function\n",
    "    result = calculate_area(length, width)\n",
    "\n",
    "    # Display the result\n",
    "    print(result)\n",
    "\n",
    "# Run the main function if the script is executed\n",
    "if __name__ == \"__main__\":\n",
    "    main()\n"
   ]
  },
  {
   "cell_type": "code",
   "execution_count": null,
   "id": "783595e3",
   "metadata": {},
   "outputs": [],
   "source": []
  }
 ],
 "metadata": {
  "kernelspec": {
   "display_name": "Python 3 (ipykernel)",
   "language": "python",
   "name": "python3"
  }
 },
 "nbformat": 4,
 "nbformat_minor": 5
}
